{
 "cells": [
  {
   "cell_type": "markdown",
   "metadata": {},
   "source": [
    "### List are the dynamic array and support number of common operations through methods operated on them."
   ]
  },
  {
   "cell_type": "code",
   "execution_count": 6,
   "metadata": {},
   "outputs": [],
   "source": [
    "def method1():\n",
    "    l = []\n",
    "    for n in range(10000):\n",
    "        l = l + [n]\n",
    "        \n",
    "def method2():\n",
    "    l = []\n",
    "    for n in range(10000):\n",
    "        l.append(n)\n",
    "        \n",
    "def method3():\n",
    "    l = [n for n in range(10000)]\n",
    "    \n",
    "def method4():\n",
    "    l = range(10000)"
   ]
  },
  {
   "cell_type": "markdown",
   "metadata": {},
   "source": [
    "#### Now using %timeit functions to calculate the time"
   ]
  },
  {
   "cell_type": "code",
   "execution_count": 7,
   "metadata": {},
   "outputs": [
    {
     "name": "stdout",
     "output_type": "stream",
     "text": [
      "170 ms ± 1.12 ms per loop (mean ± std. dev. of 7 runs, 10 loops each)\n",
      "843 µs ± 3.26 µs per loop (mean ± std. dev. of 7 runs, 1000 loops each)\n",
      "411 µs ± 2.3 µs per loop (mean ± std. dev. of 7 runs, 1000 loops each)\n",
      "336 ns ± 0.597 ns per loop (mean ± std. dev. of 7 runs, 1000000 loops each)\n"
     ]
    }
   ],
   "source": [
    "%timeit method1()\n",
    "%timeit method2()\n",
    "%timeit method3()\n",
    "%timeit method4()"
   ]
  },
  {
   "cell_type": "markdown",
   "metadata": {},
   "source": [
    "#### method4() is the best method to fill array with the numbers"
   ]
  },
  {
   "cell_type": "markdown",
   "metadata": {},
   "source": [
    "| Operations      | Big-O Efficiency |\n",
    "|:--------------: | :--------------- |\n",
    "|index[]          | O(1)             |\n",
    "|index assignment | O(1)             |\n",
    "|append           | O(1)             |\n",
    "|pop()            | O(1)             |\n",
    "|pop(i)           | O(n)             |\n",
    "|insert(i,item)   | O(n)             |\n",
    "|del operator     | O(n)             |\n",
    "|iteration        | O(n)             |\n",
    "|contain(in)      | O(n)             |\n",
    "|get slice[x:y]   | O(k)             |\n",
    "|del slice        | O(n)             |\n",
    "|set slice        | O(n+k)           |\n",
    "|reverse          | O(n)             |\n",
    "|concatenate      | O(k)             |\n",
    "|sort             | O(n log n)       |\n",
    "|multiply         | O(nk)            |"
   ]
  },
  {
   "cell_type": "markdown",
   "metadata": {},
   "source": [
    "# Dictionary\n",
    "### Dictionaries in python are an implementation of a hash table"
   ]
  },
  {
   "cell_type": "code",
   "execution_count": null,
   "metadata": {},
   "outputs": [],
   "source": []
  }
 ],
 "metadata": {
  "kernelspec": {
   "display_name": "Python 3",
   "language": "python",
   "name": "python3"
  },
  "language_info": {
   "codemirror_mode": {
    "name": "ipython",
    "version": 3
   },
   "file_extension": ".py",
   "mimetype": "text/x-python",
   "name": "python",
   "nbconvert_exporter": "python",
   "pygments_lexer": "ipython3",
   "version": "3.7.0"
  }
 },
 "nbformat": 4,
 "nbformat_minor": 2
}
