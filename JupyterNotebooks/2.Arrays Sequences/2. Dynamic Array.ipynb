{
 "cells": [
  {
   "cell_type": "code",
   "execution_count": 6,
   "metadata": {},
   "outputs": [
    {
     "name": "stdout",
     "output_type": "stream",
     "text": [
      "Length: 0, \n",
      "Size of array: 0.0625kb\n",
      "Length: 1, \n",
      "Size of array: 0.09375kb\n",
      "Length: 2, \n",
      "Size of array: 0.09375kb\n",
      "Length: 3, \n",
      "Size of array: 0.09375kb\n",
      "Length: 4, \n",
      "Size of array: 0.09375kb\n",
      "Length: 5, \n",
      "Size of array: 0.125kb\n",
      "Length: 6, \n",
      "Size of array: 0.125kb\n",
      "Length: 7, \n",
      "Size of array: 0.125kb\n",
      "Length: 8, \n",
      "Size of array: 0.125kb\n",
      "Length: 9, \n",
      "Size of array: 0.1875kb\n"
     ]
    }
   ],
   "source": [
    "import sys\n",
    "\n",
    "n = 10\n",
    "\n",
    "data = []\n",
    "\n",
    "for i in range(n):\n",
    "    a = len(data)\n",
    "    \n",
    "    b = sys.getsizeof(data)\n",
    "    \n",
    "    print(f'Length: {a}, \\nSize of array: {b/1024}kb')\n",
    "    \n",
    "    data.append(n)\n"
   ]
  },
  {
   "cell_type": "code",
   "execution_count": null,
   "metadata": {},
   "outputs": [],
   "source": []
  }
 ],
 "metadata": {
  "kernelspec": {
   "display_name": "Python 3",
   "language": "python",
   "name": "python3"
  },
  "language_info": {
   "codemirror_mode": {
    "name": "ipython",
    "version": 3
   },
   "file_extension": ".py",
   "mimetype": "text/x-python",
   "name": "python",
   "nbconvert_exporter": "python",
   "pygments_lexer": "ipython3",
   "version": "3.7.0"
  }
 },
 "nbformat": 4,
 "nbformat_minor": 2
}
